{
 "cells": [
  {
   "cell_type": "code",
   "execution_count": null,
   "metadata": {},
   "outputs": [],
   "source": [
    "import pandas as pd\n",
    "from rapidfuzz import fuzz\n",
    "from nltk.sentiment.vader import SentimentIntensityAnalyzer\n",
    "from collections import Counter\n",
    "import swifter"
   ]
  },
  {
   "cell_type": "code",
   "execution_count": null,
   "metadata": {},
   "outputs": [],
   "source": [
    "def cleanliness_count(review,word_set):\n",
    "        if word_set:\n",
    "            word_count = Counter(review)\n",
    "            for word in word_set:\n",
    "                if word in word_count:\n",
    "                    return 1\n",
    "        else:\n",
    "             return 0\n",
    "def cleanliness_count_fuzzy(review,word_set):\n",
    "    for word in review:\n",
    "         for category_word in word_set:\n",
    "              if(fuzz.ratio(category_word,word) >= 80):\n",
    "                 return 1\n",
    "    return 0\n",
    "  \n",
    "    \n",
    "def get_sentiment(listing_id, reviews_df, category,word_set=None):\n",
    "    sid = SentimentIntensityAnalyzer()  \n",
    "    # Filter reviews for the given listing_id\n",
    "    listing_reviews = reviews_df[reviews_df['listing_id'] == listing_id].copy()\n",
    "    if word_set:\n",
    "        listing_reviews.loc[:,'cleanliness_count'] = listing_reviews['review'].apply(\n",
    "             lambda x: cleanliness_count(x.split(),word_set=word_set)\n",
    "        )\n",
    "        reviews = listing_reviews[listing_reviews['cleanliness_count'] > 0]\n",
    "    else:\n",
    "        reviews = listing_reviews\n",
    "\n",
    "    if not reviews.empty:\n",
    "        sentiment = reviews.apply(\n",
    "            lambda row: (sid.polarity_scores(row['review'])['compound']), axis=1\n",
    "        )\n",
    "        return pd.Series({f'median_sentiment_{category}': sentiment.median(), \n",
    "                f'average_sentiment_{category}': sentiment.mean()})\n",
    "    else:\n",
    "        return pd.Series({f'median_sentiment_{category}': 0, \n",
    "                f'average_sentiment_{category}': 0})\n"
   ]
  },
  {
   "cell_type": "code",
   "execution_count": null,
   "metadata": {},
   "outputs": [],
   "source": [
    "with open('./Dictionaries/cleanliness_words.txt','r') as f:\n",
    "    clean_words = [line.strip().lower() for line in f.readlines()]\n",
    "with open('./Dictionaries/accuracy_words.txt','r') as f:\n",
    "    accuracy_words = [line.strip().lower() for line in f.readlines()]\n",
    "with open('./Dictionaries/checkin_words.txt','r') as f:\n",
    "    checkin_words = [line.strip().lower() for line in f.readlines()]\n",
    "with open('./Dictionaries/communication_words.txt','r') as f:\n",
    "    communication_words = [line.strip().lower() for line in f.readlines()]\n",
    "with open('./Dictionaries/location_words.txt','r') as f:\n",
    "    location_words = [line.strip().lower() for line in f.readlines()]\n",
    "with open('./Dictionaries/value_words.txt','r') as f:\n",
    "    value_words = [line.strip().lower() for line in f.readlines()]\n",
    "\n",
    "df = pd.read_csv('./Data/combined_short_removed_en_only.csv')\n",
    "df.dropna(subset=['comments'],inplace=True)\n",
    "df['comments'] = df['comments'].apply(lambda x: x.split('``'))\n",
    "df.convert_dtypes()"
   ]
  },
  {
   "cell_type": "code",
   "execution_count": null,
   "metadata": {},
   "outputs": [],
   "source": [
    "clean_words = list(set(clean_words))\n",
    "accuracy_words = list(set(accuracy_words))\n",
    "checkin_words = list(set(checkin_words))\n",
    "communication_words = list(set(communication_words))\n",
    "location_words = list(set(location_words))\n",
    "value_words = list(set(value_words))\n",
    "category_list = {\n",
    "    'clean':clean_words,\n",
    "    'accurate':accuracy_words,\n",
    "    'checkin':checkin_words,\n",
    "    'communication':communication_words,\n",
    "    'location':location_words,\n",
    "    'value':value_words,\n",
    "    'overall':None,\n",
    "}"
   ]
  },
  {
   "cell_type": "code",
   "execution_count": null,
   "metadata": {},
   "outputs": [],
   "source": [
    "reviews_df = pd.DataFrame(columns=['listing_id','review'])\n",
    "\n",
    "reviews_data = [\n",
    "    {'listing_id': row[1]['listing_id'], 'review': review} for row in df.iterrows() for review in row[1]['comments']\n",
    "]\n",
    "\n",
    "reviews_df = pd.DataFrame(reviews_data)"
   ]
  },
  {
   "cell_type": "code",
   "execution_count": null,
   "metadata": {},
   "outputs": [],
   "source": [
    "def calculate_sentiments(key, value, df, reviews_df):\n",
    "    df[[f'median_sentiment_{key}', f'average_sentiment_{key}']] = df['listing_id'].apply(\n",
    "        lambda id: get_sentiment(id, reviews_df=reviews_df, category=key, word_set=value)\n",
    "    )\n",
    "    return df\n",
    "\n",
    "# with concurrent.futures.ThreadPoolExecutor() as executor:\n",
    "#     futures = [executor.submit(calculate_sentiments, key, value, df, reviews_df) for key, value in category_list.items()]\n",
    "#     for future in concurrent.futures.as_completed(futures):\n",
    "#         df = future.result()\n",
    "\n",
    "for key,value in category_list.items():\n",
    "    df[[f'median_sentiment_{key}',f'average_sentiment_{key}']] = df['listing_id'].swifter.apply(\n",
    "        lambda id: get_sentiment(id, word_set=value, reviews_df=reviews_df,category=key)\n",
    "    )\n"
   ]
  },
  {
   "cell_type": "code",
   "execution_count": null,
   "metadata": {},
   "outputs": [],
   "source": [
    "df.to_csv('./Data/cleaned_with_sentiment_scores.csv',index=False,encoding='utf-8')"
   ]
  },
  {
   "cell_type": "code",
   "execution_count": null,
   "metadata": {},
   "outputs": [],
   "source": []
  }
 ],
 "metadata": {
  "kernelspec": {
   "display_name": "Python 3",
   "language": "python",
   "name": "python3"
  },
  "language_info": {
   "codemirror_mode": {
    "name": "ipython",
    "version": 3
   },
   "file_extension": ".py",
   "mimetype": "text/x-python",
   "name": "python",
   "nbconvert_exporter": "python",
   "pygments_lexer": "ipython3",
   "version": "3.12.4"
  }
 },
 "nbformat": 4,
 "nbformat_minor": 2
}
