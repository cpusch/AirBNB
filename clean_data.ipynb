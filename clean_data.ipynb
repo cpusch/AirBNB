{
 "cells": [
  {
   "cell_type": "code",
   "execution_count": 26,
   "metadata": {},
   "outputs": [],
   "source": [
    "import pandas as pd\n",
    "from bs4 import BeautifulSoup as bs\n",
    "import re\n",
    "from datetime import datetime"
   ]
  },
  {
   "cell_type": "code",
   "execution_count": 27,
   "metadata": {},
   "outputs": [],
   "source": [
    "df_listings = pd.read_csv('./listings.csv')\n",
    "df_reviews = pd.read_csv('./reviews.csv')\n",
    "df_listings = df_listings.convert_dtypes()\n",
    "df_reviews = df_reviews.convert_dtypes()\n",
    "df_listings = df_listings.rename(columns={'id':'listing_id'})\n"
   ]
  },
  {
   "cell_type": "code",
   "execution_count": 28,
   "metadata": {},
   "outputs": [],
   "source": [
    "#to drop\n",
    "cols_to_drop_listings = ['listing_url','scrape_id','last_scraped','source','picture_url','host_url','host_name','host_thumbnail_url',\n",
    "                'host_picture_url','has_availability','license', 'availability_30','availability_60','availability_90','availability_365',\n",
    "                'calendar_last_scraped','host_location','bathrooms_text','calendar_updated','host_id','host_neighbourhood']\n",
    "\n",
    "cols_to_drop_reviews = ['reviewer_name','reviewer_id']"
   ]
  },
  {
   "cell_type": "code",
   "execution_count": 29,
   "metadata": {},
   "outputs": [],
   "source": [
    "df_listings.drop(columns=cols_to_drop_listings,inplace=True)\n",
    "df_reviews.drop(columns=cols_to_drop_reviews,inplace=True)\n",
    "df_reviews.dropna(subset=['comments'],inplace=True)\n",
    "df_reviews_combined = df_reviews.groupby('listing_id')['comments'].agg('``'.join).reset_index()\n",
    "row_counts = df_reviews.groupby('listing_id').size().reset_index(name='review_count')\n",
    "df_reviews = pd.merge(df_reviews_combined, row_counts, on='listing_id').reset_index()\n",
    "df_combined = pd.merge(df_reviews,df_listings,on='listing_id').reset_index()\n",
    "df_combined.drop(columns=['level_0','index'],inplace=True)\n",
    "df_combined['host_response_rate'] = df_combined['host_response_rate'].str.rstrip('%').astype('float') / 100"
   ]
  },
  {
   "cell_type": "code",
   "execution_count": 30,
   "metadata": {},
   "outputs": [],
   "source": [
    "def clean_string(text):\n",
    "    if(type(text) == str):\n",
    "        text = bs(text,'html.parser').get_text()\n",
    "        tags = re.compile('<.*?>')\n",
    "        text = re.sub(tags, '', text)\n",
    "        rx = re.compile(r\"[^A-Za-z0-9\\s`]\")\n",
    "        text = rx.sub(' ', text)\n",
    "        rx = re.compile(\" +\")\n",
    "        text = rx.sub(' ', text).strip()\n",
    "        if text == 't':\n",
    "            return 1\n",
    "        if text == 'f':\n",
    "            return 0\n",
    "        try:\n",
    "            return (datetime.now() - datetime.strptime(text,\"%Y %m %d\")).days\n",
    "        except:\n",
    "            pass\n",
    "        try:\n",
    "            temp = text.split(' ')[0]\n",
    "            pattern = r'^\\d+$'\n",
    "    \n",
    "            if re.fullmatch(pattern,temp):\n",
    "                return float(temp)\n",
    "        except ValueError:\n",
    "            pass\n",
    "        if text == '':\n",
    "            return None\n",
    "    return text"
   ]
  },
  {
   "cell_type": "code",
   "execution_count": 31,
   "metadata": {},
   "outputs": [
    {
     "name": "stderr",
     "output_type": "stream",
     "text": [
      "/tmp/ipykernel_27811/436385161.py:1: FutureWarning: DataFrame.applymap has been deprecated. Use DataFrame.map instead.\n",
      "  df_combined = df_combined.applymap(clean_string).convert_dtypes()\n",
      "/tmp/ipykernel_27811/3179302904.py:3: MarkupResemblesLocatorWarning: The input looks more like a filename than markup. You may want to open this file and pass the filehandle into Beautiful Soup.\n",
      "  text = bs(text,'html.parser').get_text()\n",
      "/tmp/ipykernel_27811/3179302904.py:3: MarkupResemblesLocatorWarning: The input looks more like a filename than markup. You may want to open this file and pass the filehandle into Beautiful Soup.\n",
      "  text = bs(text,'html.parser').get_text()\n",
      "/tmp/ipykernel_27811/3179302904.py:3: MarkupResemblesLocatorWarning: The input looks more like a filename than markup. You may want to open this file and pass the filehandle into Beautiful Soup.\n",
      "  text = bs(text,'html.parser').get_text()\n",
      "/tmp/ipykernel_27811/3179302904.py:3: MarkupResemblesLocatorWarning: The input looks more like a filename than markup. You may want to open this file and pass the filehandle into Beautiful Soup.\n",
      "  text = bs(text,'html.parser').get_text()\n",
      "/tmp/ipykernel_27811/3179302904.py:3: MarkupResemblesLocatorWarning: The input looks more like a filename than markup. You may want to open this file and pass the filehandle into Beautiful Soup.\n",
      "  text = bs(text,'html.parser').get_text()\n",
      "/tmp/ipykernel_27811/3179302904.py:3: MarkupResemblesLocatorWarning: The input looks more like a filename than markup. You may want to open this file and pass the filehandle into Beautiful Soup.\n",
      "  text = bs(text,'html.parser').get_text()\n",
      "/tmp/ipykernel_27811/3179302904.py:3: MarkupResemblesLocatorWarning: The input looks more like a filename than markup. You may want to open this file and pass the filehandle into Beautiful Soup.\n",
      "  text = bs(text,'html.parser').get_text()\n",
      "/tmp/ipykernel_27811/3179302904.py:3: MarkupResemblesLocatorWarning: The input looks more like a filename than markup. You may want to open this file and pass the filehandle into Beautiful Soup.\n",
      "  text = bs(text,'html.parser').get_text()\n"
     ]
    }
   ],
   "source": [
    "df_combined = df_combined.applymap(clean_string).convert_dtypes()"
   ]
  },
  {
   "cell_type": "code",
   "execution_count": 33,
   "metadata": {},
   "outputs": [],
   "source": [
    "df_combined.to_csv('combined.csv',index=False,encoding='utf-8')"
   ]
  },
  {
   "cell_type": "code",
   "execution_count": null,
   "metadata": {},
   "outputs": [],
   "source": []
  }
 ],
 "metadata": {
  "kernelspec": {
   "display_name": "Python 3",
   "language": "python",
   "name": "python3"
  },
  "language_info": {
   "codemirror_mode": {
    "name": "ipython",
    "version": 3
   },
   "file_extension": ".py",
   "mimetype": "text/x-python",
   "name": "python",
   "nbconvert_exporter": "python",
   "pygments_lexer": "ipython3",
   "version": "3.12.4"
  }
 },
 "nbformat": 4,
 "nbformat_minor": 2
}
